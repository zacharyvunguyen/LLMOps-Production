{
 "cells": [
  {
   "cell_type": "code",
   "execution_count": 1,
   "metadata": {
    "colab": {
     "base_uri": "https://localhost:8080/"
    },
    "id": "yqyLUYg5sUhK",
    "outputId": "6d80b0aa-eeb2-4959-d650-ce5e420fc988",
    "ExecuteTime": {
     "end_time": "2024-07-15T19:04:48.827378Z",
     "start_time": "2024-07-15T19:04:48.821510Z"
    }
   },
   "outputs": [],
   "source": [
    "#!pip install openai"
   ]
  },
  {
   "cell_type": "code",
   "execution_count": 2,
   "metadata": {
    "colab": {
     "base_uri": "https://localhost:8080/"
    },
    "id": "cK0YPnzVsbhO",
    "outputId": "006eed8b-0e52-43b1-b29c-86e90d10040d",
    "ExecuteTime": {
     "end_time": "2024-07-15T19:06:54.491447Z",
     "start_time": "2024-07-15T19:06:53.409571Z"
    }
   },
   "outputs": [
    {
     "data": {
      "text/plain": "<openai.OpenAI at 0x1101b3a50>"
     },
     "execution_count": 2,
     "metadata": {},
     "output_type": "execute_result"
    }
   ],
   "source": [
    "from openai import OpenAI\n",
    "from config import api_key\n",
    "client = OpenAI(api_key=api_key)\n",
    "client"
   ]
  },
  {
   "cell_type": "code",
   "execution_count": 3,
   "metadata": {
    "id": "3k6yFCausbeG",
    "ExecuteTime": {
     "end_time": "2024-07-15T19:07:40.578065Z",
     "start_time": "2024-07-15T19:07:38.919470Z"
    }
   },
   "outputs": [],
   "source": [
    "uploaded_file = client.files.create(\n",
    "    file=open(\"story.txt\",'rb'),\n",
    "    purpose='assistants'\n",
    ")"
   ]
  },
  {
   "cell_type": "code",
   "execution_count": 4,
   "metadata": {
    "colab": {
     "base_uri": "https://localhost:8080/"
    },
    "id": "e4vEodClsbbS",
    "outputId": "586fc24e-521e-4773-9aa8-2fba94c615d8",
    "ExecuteTime": {
     "end_time": "2024-07-15T19:07:42.427791Z",
     "start_time": "2024-07-15T19:07:42.420065Z"
    }
   },
   "outputs": [
    {
     "data": {
      "text/plain": "FileObject(id='file-FICi6duCgc7EjbVuG27wf6My', bytes=5299, created_at=1721070460, filename='story.txt', object='file', purpose='assistants', status='processed', status_details=None)"
     },
     "execution_count": 4,
     "metadata": {},
     "output_type": "execute_result"
    }
   ],
   "source": [
    "uploaded_file"
   ]
  },
  {
   "cell_type": "code",
   "outputs": [
    {
     "data": {
      "text/plain": "'file-FICi6duCgc7EjbVuG27wf6My'"
     },
     "execution_count": 6,
     "metadata": {},
     "output_type": "execute_result"
    }
   ],
   "source": [
    "uploaded_file.id"
   ],
   "metadata": {
    "collapsed": false,
    "ExecuteTime": {
     "end_time": "2024-07-15T19:09:49.559105Z",
     "start_time": "2024-07-15T19:09:49.551248Z"
    }
   },
   "execution_count": 6
  },
  {
   "cell_type": "code",
   "execution_count": 9,
   "metadata": {
    "id": "UJ_VjFJ4sbYY",
    "ExecuteTime": {
     "end_time": "2024-07-15T19:11:23.662144Z",
     "start_time": "2024-07-15T19:11:23.422580Z"
    }
   },
   "outputs": [],
   "source": [
    "assistant = client.beta.assistants.create(\n",
    "    name=\"Story helper\",\n",
    "    instructions=\"You are a motivator who answers the question based on the story file\",\n",
    "    tools=[{\"type\": \"file_search\"}],\n",
    "    model=\"gpt-4o\",\n",
    "    #file_ids=[uploaded_file.id]\n",
    ")"
   ]
  },
  {
   "cell_type": "code",
   "execution_count": 10,
   "metadata": {
    "colab": {
     "base_uri": "https://localhost:8080/"
    },
    "id": "v6BgrO7PsbVQ",
    "outputId": "47d1b31d-6b1b-4b29-d47c-4447ed9488e6",
    "ExecuteTime": {
     "end_time": "2024-07-15T19:11:36.758319Z",
     "start_time": "2024-07-15T19:11:36.379952Z"
    }
   },
   "outputs": [
    {
     "data": {
      "text/plain": "Thread(id='thread_XpOSTS6VcWTGHtwyCRvHzVeI', created_at=1721070696, metadata={}, object='thread', tool_resources=ToolResources(code_interpreter=None, file_search=None))"
     },
     "execution_count": 10,
     "metadata": {},
     "output_type": "execute_result"
    }
   ],
   "source": [
    "thread = client.beta.threads.create()\n",
    "thread"
   ]
  },
  {
   "cell_type": "code",
   "execution_count": 11,
   "metadata": {
    "id": "CmCvLAZ5sbSI",
    "ExecuteTime": {
     "end_time": "2024-07-15T19:11:38.688099Z",
     "start_time": "2024-07-15T19:11:38.449777Z"
    }
   },
   "outputs": [],
   "source": [
    "message = client.beta.threads.messages.create(\n",
    "    thread_id=thread.id,\n",
    "    role=\"user\",\n",
    "    content=\"Who is the hero of the story?\"\n",
    ")"
   ]
  },
  {
   "cell_type": "code",
   "execution_count": 12,
   "metadata": {
    "colab": {
     "base_uri": "https://localhost:8080/"
    },
    "id": "BhWJG0VQsbPV",
    "outputId": "59f47f35-9340-4384-ff61-fbc34b41cfe9",
    "ExecuteTime": {
     "end_time": "2024-07-15T19:11:40.620502Z",
     "start_time": "2024-07-15T19:11:40.604055Z"
    }
   },
   "outputs": [
    {
     "data": {
      "text/plain": "Message(id='msg_92J7Bghi120IwinSuguyVxjH', assistant_id=None, attachments=[], completed_at=None, content=[TextContentBlock(text=Text(annotations=[], value='Who is the hero of the story?'), type='text')], created_at=1721070698, incomplete_at=None, incomplete_details=None, metadata={}, object='thread.message', role='user', run_id=None, status=None, thread_id='thread_XpOSTS6VcWTGHtwyCRvHzVeI')"
     },
     "execution_count": 12,
     "metadata": {},
     "output_type": "execute_result"
    }
   ],
   "source": [
    "message"
   ]
  },
  {
   "cell_type": "code",
   "execution_count": 13,
   "metadata": {
    "colab": {
     "base_uri": "https://localhost:8080/"
    },
    "id": "HWceqG1qwRor",
    "outputId": "0b57bcd5-c30b-4ba8-dd76-f3d4b090b1fe",
    "ExecuteTime": {
     "end_time": "2024-07-15T19:11:42.530578Z",
     "start_time": "2024-07-15T19:11:42.517085Z"
    }
   },
   "outputs": [
    {
     "data": {
      "text/plain": "Assistant(id='asst_5v8C9qCCdKFq7pxEsbPO9s0b', created_at=1721070683, description=None, instructions='You are a motivator who answers the question based on the story file', metadata={}, model='gpt-4o', name='Story helper', object='assistant', tools=[FileSearchTool(type='file_search', file_search=None)], response_format='auto', temperature=1.0, tool_resources=ToolResources(code_interpreter=None, file_search=ToolResourcesFileSearch(vector_store_ids=[])), top_p=1.0)"
     },
     "execution_count": 13,
     "metadata": {},
     "output_type": "execute_result"
    }
   ],
   "source": [
    "assistant"
   ]
  },
  {
   "cell_type": "code",
   "execution_count": 24,
   "metadata": {
    "id": "n167t7_bvzWc",
    "ExecuteTime": {
     "end_time": "2024-07-15T19:12:51.011220Z",
     "start_time": "2024-07-15T19:12:50.514886Z"
    }
   },
   "outputs": [],
   "source": [
    "run = client.beta.threads.runs.create(\n",
    "  thread_id=thread.id,\n",
    "  assistant_id=assistant.id\n",
    ")"
   ]
  },
  {
   "cell_type": "code",
   "execution_count": 25,
   "metadata": {
    "id": "xDFA3GpAwVs1",
    "ExecuteTime": {
     "end_time": "2024-07-15T19:12:51.617875Z",
     "start_time": "2024-07-15T19:12:51.503918Z"
    }
   },
   "outputs": [],
   "source": [
    "run = client.beta.threads.runs.retrieve(\n",
    "  thread_id=thread.id,\n",
    "  run_id=run.id\n",
    ")"
   ]
  },
  {
   "cell_type": "code",
   "execution_count": 31,
   "metadata": {
    "colab": {
     "base_uri": "https://localhost:8080/",
     "height": 35
    },
    "id": "LTxbm44dwa9G",
    "outputId": "e7d4933d-485b-4b86-b246-e0d75a5e89db",
    "ExecuteTime": {
     "end_time": "2024-07-15T19:13:56.661923Z",
     "start_time": "2024-07-15T19:13:56.655109Z"
    }
   },
   "outputs": [
    {
     "data": {
      "text/plain": "'in_progress'"
     },
     "execution_count": 31,
     "metadata": {},
     "output_type": "execute_result"
    }
   ],
   "source": [
    "run.status"
   ]
  },
  {
   "cell_type": "code",
   "execution_count": 32,
   "metadata": {
    "colab": {
     "base_uri": "https://localhost:8080/"
    },
    "id": "kI8ita5dwcPA",
    "outputId": "dc47a81b-8f7a-43b4-dfad-7a0dc44c762c",
    "ExecuteTime": {
     "end_time": "2024-07-15T19:13:58.720191Z",
     "start_time": "2024-07-15T19:13:58.706804Z"
    }
   },
   "outputs": [
    {
     "data": {
      "text/plain": "Message(id='msg_92J7Bghi120IwinSuguyVxjH', assistant_id=None, attachments=[], completed_at=None, content=[TextContentBlock(text=Text(annotations=[], value='Who is the hero of the story?'), type='text')], created_at=1721070698, incomplete_at=None, incomplete_details=None, metadata={}, object='thread.message', role='user', run_id=None, status=None, thread_id='thread_XpOSTS6VcWTGHtwyCRvHzVeI')"
     },
     "execution_count": 32,
     "metadata": {},
     "output_type": "execute_result"
    }
   ],
   "source": [
    "message"
   ]
  },
  {
   "cell_type": "code",
   "execution_count": 33,
   "metadata": {
    "colab": {
     "base_uri": "https://localhost:8080/"
    },
    "id": "k2gaGxZ8whye",
    "outputId": "a3f2fbc9-ba11-40e0-ca8e-19e2cd258739",
    "ExecuteTime": {
     "end_time": "2024-07-15T19:13:59.144032Z",
     "start_time": "2024-07-15T19:13:58.995767Z"
    }
   },
   "outputs": [
    {
     "data": {
      "text/plain": "SyncCursorPage[Message](data=[Message(id='msg_BP8nGlbW8W2E9QqMjosL9y5g', assistant_id='asst_5v8C9qCCdKFq7pxEsbPO9s0b', attachments=[], completed_at=None, content=[TextContentBlock(text=Text(annotations=[], value='Please upload the story file so I can review it and determine who the hero of the story is.'), type='text')], created_at=1721070771, incomplete_at=None, incomplete_details=None, metadata={}, object='thread.message', role='assistant', run_id='run_yerDJdRQJLvE2dhIK8LjAAno', status=None, thread_id='thread_XpOSTS6VcWTGHtwyCRvHzVeI'), Message(id='msg_BK0KJsc0d9rqwrJBXacxi03Q', assistant_id='asst_5v8C9qCCdKFq7pxEsbPO9s0b', attachments=[], completed_at=None, content=[TextContentBlock(text=Text(annotations=[], value='Please upload the story file so I can review it and determine who the hero of the story is.'), type='text')], created_at=1721070705, incomplete_at=None, incomplete_details=None, metadata={}, object='thread.message', role='assistant', run_id='run_KgiQFKZyxxr5RozmKAPx5VGT', status=None, thread_id='thread_XpOSTS6VcWTGHtwyCRvHzVeI'), Message(id='msg_92J7Bghi120IwinSuguyVxjH', assistant_id=None, attachments=[], completed_at=None, content=[TextContentBlock(text=Text(annotations=[], value='Who is the hero of the story?'), type='text')], created_at=1721070698, incomplete_at=None, incomplete_details=None, metadata={}, object='thread.message', role='user', run_id=None, status=None, thread_id='thread_XpOSTS6VcWTGHtwyCRvHzVeI')], object='list', first_id='msg_BP8nGlbW8W2E9QqMjosL9y5g', last_id='msg_92J7Bghi120IwinSuguyVxjH', has_more=False)"
     },
     "execution_count": 33,
     "metadata": {},
     "output_type": "execute_result"
    }
   ],
   "source": [
    "messages = client.beta.threads.messages.list(thread_id=thread.id)\n",
    "messages"
   ]
  },
  {
   "cell_type": "code",
   "execution_count": 34,
   "metadata": {
    "colab": {
     "base_uri": "https://localhost:8080/"
    },
    "id": "bhIPBLQ4wvc2",
    "outputId": "ef589a59-ec78-4ea5-c466-654fb1a1e0a2",
    "ExecuteTime": {
     "end_time": "2024-07-15T19:13:59.654026Z",
     "start_time": "2024-07-15T19:13:59.455836Z"
    }
   },
   "outputs": [
    {
     "name": "stdout",
     "output_type": "stream",
     "text": [
      "Please upload the story file so I can review it and determine who the hero of the story is.\n"
     ]
    }
   ],
   "source": [
    "while True:\n",
    "    run = client.beta.threads.runs.retrieve(thread_id=thread.id, run_id=run.id)\n",
    "    if run.status==\"completed\":\n",
    "        messages = client.beta.threads.messages.list(thread_id=thread.id)\n",
    "        latest_message = messages.data[0]\n",
    "        text = latest_message.content[0].text.value\n",
    "        print(text)\n",
    "        break;"
   ]
  },
  {
   "cell_type": "code",
   "execution_count": null,
   "metadata": {
    "id": "Y13Gor4ZxLe3"
   },
   "outputs": [],
   "source": []
  }
 ],
 "metadata": {
  "colab": {
   "provenance": []
  },
  "kernelspec": {
   "name": "python3",
   "language": "python",
   "display_name": "Python 3 (ipykernel)"
  },
  "language_info": {
   "name": "python"
  }
 },
 "nbformat": 4,
 "nbformat_minor": 0
}
