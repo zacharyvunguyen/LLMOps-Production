{
 "cells": [
  {
   "cell_type": "code",
   "execution_count": 17,
   "metadata": {
    "colab": {
     "base_uri": "https://localhost:8080/"
    },
    "id": "yqyLUYg5sUhK",
    "outputId": "6d80b0aa-eeb2-4959-d650-ce5e420fc988",
    "ExecuteTime": {
     "end_time": "2024-07-24T15:13:03.078566Z",
     "start_time": "2024-07-24T15:13:03.066557Z"
    }
   },
   "outputs": [],
   "source": [
    "#!pip install openai"
   ]
  },
  {
   "cell_type": "code",
   "execution_count": 18,
   "metadata": {
    "colab": {
     "base_uri": "https://localhost:8080/"
    },
    "id": "cK0YPnzVsbhO",
    "outputId": "006eed8b-0e52-43b1-b29c-86e90d10040d",
    "ExecuteTime": {
     "end_time": "2024-07-24T15:13:03.121027Z",
     "start_time": "2024-07-24T15:13:03.083064Z"
    }
   },
   "outputs": [
    {
     "data": {
      "text/plain": "<openai.OpenAI at 0x112c7e350>"
     },
     "execution_count": 18,
     "metadata": {},
     "output_type": "execute_result"
    }
   ],
   "source": [
    "from openai import OpenAI\n",
    "from config import api_key\n",
    "client = OpenAI(api_key=api_key)\n",
    "client"
   ]
  },
  {
   "cell_type": "code",
   "execution_count": 19,
   "metadata": {
    "id": "3k6yFCausbeG",
    "ExecuteTime": {
     "end_time": "2024-07-24T15:13:04.823562Z",
     "start_time": "2024-07-24T15:13:03.125892Z"
    }
   },
   "outputs": [],
   "source": [
    "uploaded_file = client.files.create(\n",
    "    file=open(\"story.txt\",'rb'),\n",
    "    purpose='assistants'\n",
    ")"
   ]
  },
  {
   "cell_type": "code",
   "execution_count": 20,
   "metadata": {
    "colab": {
     "base_uri": "https://localhost:8080/"
    },
    "id": "e4vEodClsbbS",
    "outputId": "586fc24e-521e-4773-9aa8-2fba94c615d8",
    "ExecuteTime": {
     "end_time": "2024-07-24T15:13:04.832460Z",
     "start_time": "2024-07-24T15:13:04.825260Z"
    }
   },
   "outputs": [
    {
     "data": {
      "text/plain": "FileObject(id='file-H25s5QOTwVub3xt5K2BhQ9xp', bytes=5299, created_at=1721833984, filename='story.txt', object='file', purpose='assistants', status='processed', status_details=None)"
     },
     "execution_count": 20,
     "metadata": {},
     "output_type": "execute_result"
    }
   ],
   "source": [
    "uploaded_file"
   ]
  },
  {
   "cell_type": "code",
   "outputs": [
    {
     "data": {
      "text/plain": "'file-H25s5QOTwVub3xt5K2BhQ9xp'"
     },
     "execution_count": 21,
     "metadata": {},
     "output_type": "execute_result"
    }
   ],
   "source": [
    "uploaded_file.id"
   ],
   "metadata": {
    "collapsed": false,
    "ExecuteTime": {
     "end_time": "2024-07-24T15:13:04.846243Z",
     "start_time": "2024-07-24T15:13:04.832684Z"
    }
   },
   "execution_count": 21
  },
  {
   "cell_type": "code",
   "execution_count": 23,
   "metadata": {
    "id": "UJ_VjFJ4sbYY",
    "ExecuteTime": {
     "end_time": "2024-07-24T15:13:16.832913Z",
     "start_time": "2024-07-24T15:13:16.645522Z"
    }
   },
   "outputs": [],
   "source": [
    "assistant = client.beta.assistants.create(\n",
    "    name=\"Story helper\",\n",
    "    instructions=\"You are a motivator who answers the question based on the story file\",\n",
    "    tools=[{\"type\": \"file_search\"}],\n",
    "    model=\"gpt-4o\",\n",
    "    #file_ids=[uploaded_file.id]\n",
    ")"
   ]
  },
  {
   "cell_type": "code",
   "execution_count": null,
   "metadata": {
    "colab": {
     "base_uri": "https://localhost:8080/"
    },
    "id": "v6BgrO7PsbVQ",
    "outputId": "47d1b31d-6b1b-4b29-d47c-4447ed9488e6",
    "ExecuteTime": {
     "end_time": "2024-07-24T15:13:05.190518Z",
     "start_time": "2024-07-24T15:13:05.180595Z"
    }
   },
   "outputs": [],
   "source": [
    "thread = client.beta.threads.create()\n",
    "thread"
   ]
  },
  {
   "cell_type": "code",
   "execution_count": null,
   "metadata": {
    "id": "CmCvLAZ5sbSI",
    "ExecuteTime": {
     "start_time": "2024-07-24T15:13:05.183647Z"
    }
   },
   "outputs": [],
   "source": [
    "message = client.beta.threads.messages.create(\n",
    "    thread_id=thread.id,\n",
    "    role=\"user\",\n",
    "    content=\"Who is the hero of the story?\"\n",
    ")"
   ]
  },
  {
   "cell_type": "code",
   "execution_count": null,
   "metadata": {
    "colab": {
     "base_uri": "https://localhost:8080/"
    },
    "id": "BhWJG0VQsbPV",
    "outputId": "59f47f35-9340-4384-ff61-fbc34b41cfe9",
    "ExecuteTime": {
     "end_time": "2024-07-24T15:13:05.197856Z",
     "start_time": "2024-07-24T15:13:05.190698Z"
    }
   },
   "outputs": [],
   "source": [
    "message"
   ]
  },
  {
   "cell_type": "code",
   "execution_count": null,
   "metadata": {
    "colab": {
     "base_uri": "https://localhost:8080/"
    },
    "id": "HWceqG1qwRor",
    "outputId": "0b57bcd5-c30b-4ba8-dd76-f3d4b090b1fe",
    "ExecuteTime": {
     "start_time": "2024-07-24T15:13:05.194487Z"
    }
   },
   "outputs": [],
   "source": [
    "assistant"
   ]
  },
  {
   "cell_type": "code",
   "execution_count": null,
   "metadata": {
    "id": "n167t7_bvzWc",
    "ExecuteTime": {
     "end_time": "2024-07-24T15:13:05.200085Z",
     "start_time": "2024-07-24T15:13:05.198468Z"
    }
   },
   "outputs": [],
   "source": [
    "run = client.beta.threads.runs.create(\n",
    "  thread_id=thread.id,\n",
    "  assistant_id=assistant.id\n",
    ")"
   ]
  },
  {
   "cell_type": "code",
   "execution_count": null,
   "metadata": {
    "id": "xDFA3GpAwVs1",
    "ExecuteTime": {
     "start_time": "2024-07-24T15:13:05.202497Z"
    }
   },
   "outputs": [],
   "source": [
    "run = client.beta.threads.runs.retrieve(\n",
    "  thread_id=thread.id,\n",
    "  run_id=run.id\n",
    ")"
   ]
  },
  {
   "cell_type": "code",
   "execution_count": null,
   "metadata": {
    "colab": {
     "base_uri": "https://localhost:8080/",
     "height": 35
    },
    "id": "LTxbm44dwa9G",
    "outputId": "e7d4933d-485b-4b86-b246-e0d75a5e89db",
    "ExecuteTime": {
     "start_time": "2024-07-24T15:13:05.207955Z"
    }
   },
   "outputs": [],
   "source": [
    "run.status"
   ]
  },
  {
   "cell_type": "code",
   "execution_count": null,
   "metadata": {
    "colab": {
     "base_uri": "https://localhost:8080/"
    },
    "id": "kI8ita5dwcPA",
    "outputId": "dc47a81b-8f7a-43b4-dfad-7a0dc44c762c",
    "ExecuteTime": {
     "start_time": "2024-07-24T15:13:05.210933Z"
    }
   },
   "outputs": [],
   "source": [
    "message"
   ]
  },
  {
   "cell_type": "code",
   "execution_count": null,
   "metadata": {
    "colab": {
     "base_uri": "https://localhost:8080/"
    },
    "id": "k2gaGxZ8whye",
    "outputId": "a3f2fbc9-ba11-40e0-ca8e-19e2cd258739",
    "ExecuteTime": {
     "start_time": "2024-07-24T15:13:05.213827Z"
    }
   },
   "outputs": [],
   "source": [
    "messages = client.beta.threads.messages.list(thread_id=thread.id)\n",
    "messages"
   ]
  },
  {
   "cell_type": "code",
   "execution_count": null,
   "metadata": {
    "colab": {
     "base_uri": "https://localhost:8080/"
    },
    "id": "bhIPBLQ4wvc2",
    "outputId": "ef589a59-ec78-4ea5-c466-654fb1a1e0a2",
    "ExecuteTime": {
     "start_time": "2024-07-24T15:13:05.216281Z"
    }
   },
   "outputs": [],
   "source": [
    "while True:\n",
    "    run = client.beta.threads.runs.retrieve(thread_id=thread.id, run_id=run.id)\n",
    "    if run.status==\"completed\":\n",
    "        messages = client.beta.threads.messages.list(thread_id=thread.id)\n",
    "        latest_message = messages.data[0]\n",
    "        text = latest_message.content[0].text.value\n",
    "        print(text)\n",
    "        break;"
   ]
  },
  {
   "cell_type": "code",
   "execution_count": null,
   "metadata": {
    "id": "Y13Gor4ZxLe3",
    "ExecuteTime": {
     "end_time": "2024-07-24T15:13:05.238482Z",
     "start_time": "2024-07-24T15:13:05.221242Z"
    }
   },
   "outputs": [],
   "source": []
  }
 ],
 "metadata": {
  "colab": {
   "provenance": []
  },
  "kernelspec": {
   "name": "python3",
   "language": "python",
   "display_name": "Python 3 (ipykernel)"
  },
  "language_info": {
   "name": "python"
  }
 },
 "nbformat": 4,
 "nbformat_minor": 0
}
